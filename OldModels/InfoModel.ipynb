{
 "cells": [
  {
   "cell_type": "code",
   "execution_count": 1,
   "id": "13019d7e",
   "metadata": {},
   "outputs": [],
   "source": [
    "import os\n",
    "import datetime\n",
    "import pandas as pd\n",
    "import numpy as np\n",
    "import soundfile as sf\n",
    "from matplotlib import pyplot as plt\n",
    "\n",
    "import tensorflow as tf\n",
    "import tensorflow_io as tfio\n",
    "from tensorboard import notebook\n",
    "\n",
    "import keras.models\n",
    "from keras import regularizers\n",
    "from keras.models import Sequential\n",
    "from keras.layers import Conv2D, Dense, Flatten\n",
    "from keras.layers import Dropout\n",
    "from keras.utils import to_categorical\n",
    "from tensorflow.keras.models import Sequential\n",
    "from tensorflow.keras.layers import BatchNormalization\n",
    "from tensorflow.keras.layers import Conv2D\n",
    "from tensorflow.keras.layers import MaxPooling2D\n",
    "from tensorflow.keras.layers import Activation\n",
    "from tensorflow.keras.layers import Dropout\n",
    "from tensorflow.keras.layers import Dense\n",
    "from tensorflow.keras.layers import Flatten\n",
    "from tensorflow.keras.layers import Input\n",
    "from tensorflow.keras.models import Model\n",
    "from tensorflow.keras.layers import concatenate\n",
    "\n",
    "from sklearn.preprocessing import LabelEncoder\n",
    "from sklearn.model_selection import train_test_split\n",
    "from sklearn.utils import shuffle\n",
    "from sklearn.preprocessing import LabelBinarizer\n",
    "from sklearn.preprocessing import MinMaxScaler\n",
    "\n",
    "\n",
    "from tensorflow.keras.layers import Input, Conv2D\n",
    "from tensorflow.keras.layers import MaxPool2D, Flatten, Dense, Lambda\n",
    "from tensorflow.keras import Model\n",
    "from tensorflow.keras.applications.vgg16 import VGG16"
   ]
  },
  {
   "cell_type": "code",
   "execution_count": 2,
   "id": "f4a2ffa3",
   "metadata": {},
   "outputs": [],
   "source": [
    "def create_model(num_labels):\n",
    "    info_input = Input((2,))\n",
    "    info = Dense(16, activation=\"relu\", kernel_regularizer=regularizers.l2(0.001))(info_input)\n",
    "    info = Dense(32, activation=\"relu\", kernel_regularizer=regularizers.l2(0.001))(info)\n",
    "    info = Dense(64, activation=\"relu\", kernel_regularizer=regularizers.l2(0.001))(info)\n",
    "    info = Dense(128, activation=\"relu\", kernel_regularizer=regularizers.l2(0.001))(info)\n",
    "    info = Dense(256, activation=\"relu\", kernel_regularizer=regularizers.l2(0.001))(info)\n",
    "    info = Dropout(.33)(info)\n",
    "    info = Dense(256, activation=\"relu\", kernel_regularizer=regularizers.l2(0.001))(info)\n",
    "    info = Dropout(.33)(info)\n",
    "    info = Dense(256, activation=\"relu\", kernel_regularizer=regularizers.l2(0.001))(info)\n",
    "    info = Dropout(.33)(info)\n",
    "    output = Dense(units = num_labels, activation ='softmax')(info)\n",
    "    \n",
    "    model = Model(info_input, [output])\n",
    "    model.summary()\n",
    "    optimizer = keras.optimizers.Adam(learning_rate=0.00025, decay=0.0025)\n",
    "    model.compile(optimizer=optimizer, loss='categorical_crossentropy', metrics=[\"accuracy\"])\n",
    "    return model"
   ]
  },
  {
   "cell_type": "code",
   "execution_count": 3,
   "id": "e2bb68a7",
   "metadata": {},
   "outputs": [],
   "source": [
    "def train_model(trainAttrX, trainY, testAttrX, testY, num_labels, batch_amt, epoch_amt, save):\n",
    "    model = create_model(num_labels)\n",
    "\n",
    "    log_dir = \"logs/fit/\" + datetime.datetime.now().strftime(\"%Y%m%d-%H%M%S\")\n",
    "    tensorboard_callback = tf.keras.callbacks.TensorBoard(log_dir=log_dir, histogram_freq=1)\n",
    "\n",
    "\n",
    "    model.fit( x=[trainAttrX], y=trainY, validation_data=([testAttrX], testY),\n",
    "        epochs=epoch_amt, batch_size=batch_amt, callbacks=[tensorboard_callback], verbose=False)\n",
    "    \n",
    "    if save:\n",
    "        model.save(\"model\")\n",
    "\n",
    "    return model"
   ]
  },
  {
   "cell_type": "code",
   "execution_count": 4,
   "id": "fd7dcfe1",
   "metadata": {},
   "outputs": [],
   "source": [
    "def load_attributes(inputPath):\n",
    "    cols = [\"latitude\", \"longitude\", \"filename\", \"primary_label\"]\n",
    "    df = pd.read_csv(inputPath, skipinitialspace=True, usecols=cols)\n",
    "    df = shuffle(df)\n",
    "    df.reset_index(inplace=True, drop=True)\n",
    "    return df"
   ]
  },
  {
   "cell_type": "code",
   "execution_count": 5,
   "id": "3cb0e284",
   "metadata": {},
   "outputs": [],
   "source": [
    "def process_attributes(inputPath, train, test):\n",
    "    continuous = [\"latitude\", \"longitude\"]\n",
    "    \n",
    "    cs = MinMaxScaler()\n",
    "    trainX = cs.fit_transform(train[continuous])\n",
    "    testX = cs.transform(test[continuous])\n",
    "    \n",
    "    return (trainX, testX)"
   ]
  },
  {
   "cell_type": "code",
   "execution_count": 6,
   "id": "eac490cf",
   "metadata": {},
   "outputs": [],
   "source": [
    "df = load_attributes(\"./Data/train_metadata.csv\")"
   ]
  },
  {
   "cell_type": "code",
   "execution_count": 7,
   "id": "a3832e68",
   "metadata": {},
   "outputs": [],
   "source": [
    "split = train_test_split(df, test_size=0.2, random_state=0)\n",
    "(trainAttrX, testAttrX) = split\n",
    "label_encoder = LabelEncoder()\n",
    "trainY = to_categorical(label_encoder.fit_transform(trainAttrX[\"primary_label\"]))\n",
    "testY = to_categorical(label_encoder.fit_transform(testAttrX[\"primary_label\"]))\n",
    "\n",
    "(trainAttrX, testAttrX) = process_attributes(df,\n",
    "    trainAttrX, testAttrX)\n"
   ]
  },
  {
   "cell_type": "code",
   "execution_count": 8,
   "id": "c991be94",
   "metadata": {
    "scrolled": true
   },
   "outputs": [],
   "source": [
    "num_labels = trainY.shape[1]"
   ]
  },
  {
   "cell_type": "code",
   "execution_count": null,
   "id": "81ee714b",
   "metadata": {
    "scrolled": true
   },
   "outputs": [
    {
     "name": "stdout",
     "output_type": "stream",
     "text": [
      "Model: \"model\"\n",
      "_________________________________________________________________\n",
      " Layer (type)                Output Shape              Param #   \n",
      "=================================================================\n",
      " input_1 (InputLayer)        [(None, 2)]               0         \n",
      "                                                                 \n",
      " dense (Dense)               (None, 16)                48        \n",
      "                                                                 \n",
      " dense_1 (Dense)             (None, 32)                544       \n",
      "                                                                 \n",
      " dense_2 (Dense)             (None, 64)                2112      \n",
      "                                                                 \n",
      " dense_3 (Dense)             (None, 128)               8320      \n",
      "                                                                 \n",
      " dense_4 (Dense)             (None, 256)               33024     \n",
      "                                                                 \n",
      " dropout (Dropout)           (None, 256)               0         \n",
      "                                                                 \n",
      " dense_5 (Dense)             (None, 256)               65792     \n",
      "                                                                 \n",
      " dropout_1 (Dropout)         (None, 256)               0         \n",
      "                                                                 \n",
      " dense_6 (Dense)             (None, 256)               65792     \n",
      "                                                                 \n",
      " dropout_2 (Dropout)         (None, 256)               0         \n",
      "                                                                 \n",
      " dense_7 (Dense)             (None, 397)               102029    \n",
      "                                                                 \n",
      "=================================================================\n",
      "Total params: 277,661\n",
      "Trainable params: 277,661\n",
      "Non-trainable params: 0\n",
      "_________________________________________________________________\n"
     ]
    }
   ],
   "source": [
    "train_model(trainAttrX, trainY, testAttrX, testY, num_labels, 128, 150, True)\n",
    "\n",
    "#model = keras.models.load_model(\"model\")\n",
    "\n",
    "#preds = model.predict([testImagesX, testAttrX])"
   ]
  },
  {
   "cell_type": "code",
   "execution_count": null,
   "id": "ae3283ae",
   "metadata": {},
   "outputs": [],
   "source": [
    "prediction = predict_file(\"./Data/Audio/aldfly/XC477348.ogg\", model, label_encoder,\n",
    "                              42.0458, -79.441, \"2019-05-27\")\n",
    "prediction"
   ]
  }
 ],
 "metadata": {
  "kernelspec": {
   "display_name": "Python 3 (ipykernel)",
   "language": "python",
   "name": "python3"
  },
  "language_info": {
   "codemirror_mode": {
    "name": "ipython",
    "version": 3
   },
   "file_extension": ".py",
   "mimetype": "text/x-python",
   "name": "python",
   "nbconvert_exporter": "python",
   "pygments_lexer": "ipython3",
   "version": "3.9.13"
  }
 },
 "nbformat": 4,
 "nbformat_minor": 5
}
