{
 "cells": [
  {
   "cell_type": "code",
   "execution_count": 1,
   "id": "13019d7e",
   "metadata": {},
   "outputs": [],
   "source": [
    "import os\n",
    "\n",
    "import pandas as pd\n",
    "import numpy as np\n",
    "import soundfile as sf\n",
    "from matplotlib import pyplot as plt\n",
    "\n",
    "import tensorflow as tf\n",
    "import tensorflow_io as tfio\n",
    "\n",
    "import keras.models\n",
    "from keras import regularizers\n",
    "from keras.models import Sequential\n",
    "from keras.layers import Conv2D, Dense, Flatten\n",
    "from keras.layers import Dropout\n",
    "from keras.utils import to_categorical\n",
    "from tensorflow.keras.models import Sequential\n",
    "from tensorflow.keras.layers import BatchNormalization\n",
    "from tensorflow.keras.layers import Conv2D\n",
    "from tensorflow.keras.layers import MaxPooling2D\n",
    "from tensorflow.keras.layers import Activation\n",
    "from tensorflow.keras.layers import Dropout\n",
    "from tensorflow.keras.layers import Dense\n",
    "from tensorflow.keras.layers import Flatten\n",
    "from tensorflow.keras.layers import Input\n",
    "from tensorflow.keras.models import Model\n",
    "from tensorflow.keras.layers import concatenate\n",
    "\n",
    "from sklearn.preprocessing import LabelEncoder\n",
    "from sklearn.model_selection import train_test_split\n",
    "from sklearn.utils import shuffle\n",
    "from sklearn.preprocessing import LabelBinarizer\n",
    "from sklearn.preprocessing import MinMaxScaler"
   ]
  },
  {
   "cell_type": "code",
   "execution_count": 2,
   "id": "ad489fe5",
   "metadata": {},
   "outputs": [],
   "source": [
    "def load_audio(file_name):\n",
    "    audio_data, sample_rate = sf.read(file_name)\n",
    "    return audio_data[::4]"
   ]
  },
  {
   "cell_type": "code",
   "execution_count": 3,
   "id": "7fda4cc7",
   "metadata": {},
   "outputs": [],
   "source": [
    "def preprocess(file_path):\n",
    "    wav = load_audio(file_path)\n",
    "    wav = wav[:80000]\n",
    "    zero_padding = tf.zeros([80000] - tf.shape(wav), dtype=tf.float32)\n",
    "    wav = tf.concat([zero_padding, wav], 0)\n",
    "\n",
    "    spectrogram = tfio.audio.spectrogram(\n",
    "        wav, nfft=512, window=512, stride=512)\n",
    "\n",
    "    mel_spectrogram = tfio.audio.melscale(\n",
    "        spectrogram, rate=8000, mels=64, fmin=0, fmax=4000)\n",
    "\n",
    "    dbscale_mel_spectrogram = tfio.audio.dbscale(\n",
    "        mel_spectrogram, top_db=80)\n",
    "\n",
    "    freq_mask = tfio.audio.freq_mask(dbscale_mel_spectrogram, param=2)\n",
    "\n",
    "    time_mask = tfio.audio.time_mask(freq_mask, param=2)\n",
    "    time_mask = tf.expand_dims(time_mask, axis=2)\n",
    "    return time_mask"
   ]
  },
  {
   "cell_type": "code",
   "execution_count": 4,
   "id": "f4a2ffa3",
   "metadata": {},
   "outputs": [],
   "source": [
    "def create_model(num_labels):\n",
    "    image_input = Input((157, 64, 1))\n",
    "    x = Conv2D(16, (3,3), activation='relu', kernel_regularizer=regularizers.l2(0.0001))(image_input)\n",
    "    x = Dropout(0.5)(x)\n",
    "    x = Conv2D(32, (3,3), activation='relu', kernel_regularizer=regularizers.l2(0.0001))(x)\n",
    "    x = Dropout(0.5)(x)\n",
    "    x = Conv2D(32, (3,3), activation='relu', kernel_regularizer=regularizers.l2(0.0001))(x)\n",
    "    x = Dropout(0.5)(x)\n",
    "    x = Conv2D(64, (3,3), activation='relu', kernel_regularizer=regularizers.l2(0.0001))(x)\n",
    "    x = Dropout(0.5)(x)\n",
    "    x = Conv2D(64, (3,3), activation='relu', kernel_regularizer=regularizers.l2(0.0001))(x)\n",
    "    x = Dropout(0.5)(x)\n",
    "    x = Conv2D(64, (3,3), activation='relu', kernel_regularizer=regularizers.l2(0.0001))(x)\n",
    "    x = Dropout(0.5)(x)\n",
    "    x = Conv2D(64, (3,3), activation='relu', kernel_regularizer=regularizers.l2(0.0001))(x)\n",
    "    x = Dropout(0.5)(x)\n",
    "    x = Flatten()(x)\n",
    "    x = Dropout(0.5)(x)\n",
    "    x = Dense(256, activation=\"relu\", kernel_regularizer=regularizers.l2(0.0001))(x)\n",
    "    x = Dropout(0.5)(x)\n",
    "    x = Dense(128, activation=\"relu\", kernel_regularizer=regularizers.l2(0.0001))(x)\n",
    "    x = Dropout(0.5)(x)\n",
    "    x = Dense(128, activation=\"relu\", kernel_regularizer=regularizers.l2(0.0001))(x)\n",
    "    x = Dropout(0.5)(x)\n",
    "    x = Dense(64, activation=\"relu\", kernel_regularizer=regularizers.l2(0.0001))(x)\n",
    "    x = Dense(64, activation=\"relu\", kernel_regularizer=regularizers.l2(0.0001))(x)\n",
    "    x = Dense(64, activation=\"relu\", kernel_regularizer=regularizers.l2(0.0001))(x)\n",
    "    x = Dense(32, activation=\"relu\", kernel_regularizer=regularizers.l2(0.0001))(x)\n",
    "\n",
    "    info_input = Input((2,))\n",
    "    y = Dense(16, activation=\"relu\", kernel_regularizer=regularizers.l2(0.0001))(info_input)\n",
    "    y = Dropout(0.5)(y)\n",
    "    y = Dense(32, activation=\"relu\", kernel_regularizer=regularizers.l2(0.0001))(y)\n",
    "    y = Dropout(0.5)(y)\n",
    "    y = Dense(16, activation=\"relu\", kernel_regularizer=regularizers.l2(0.0001))(info_input)\n",
    "    y = Dropout(0.5)(y)\n",
    "    \n",
    "    z = concatenate([x, y])\n",
    "    z = Dense(128, activation=\"relu\", kernel_regularizer=regularizers.l2(0.0001))(z)\n",
    "    z = Dropout(0.5)(z)\n",
    "    z = Dense(64, activation=\"relu\", kernel_regularizer=regularizers.l2(0.0001))(z)\n",
    "    z = Dropout(0.5)(z)\n",
    "    z = Dense(64, activation=\"relu\", kernel_regularizer=regularizers.l2(0.0001))(z)\n",
    "    z = Dropout(0.5)(z)\n",
    "    z = Dense(32, activation=\"relu\", kernel_regularizer=regularizers.l2(0.0001))(z)\n",
    "    z = Dropout(0.5)(z)\n",
    "    z = Dense(num_labels, activation=\"softmax\")(z)\n",
    "\n",
    "    model = Model([image_input, info_input], [z])\n",
    "    model.summary()\n",
    "    optimizer = keras.optimizers.Adam(learning_rate=0.001)\n",
    "    model.compile(optimizer=optimizer, loss='categorical_crossentropy', metrics=[\"accuracy\"])\n",
    "    return model"
   ]
  },
  {
   "cell_type": "code",
   "execution_count": 5,
   "id": "e2bb68a7",
   "metadata": {},
   "outputs": [],
   "source": [
    "def train_model(model, trainAttrX, trainImagesX, trainY, testAttrX, testImagesX, testY, num_labels, batch_amt, epoch_amt, save):\n",
    "    if not model:\n",
    "        model = create_model(num_labels)\n",
    "\n",
    "    checkpoint = keras.callbacks.ModelCheckpoint(filepath=\"bestest_model\",\n",
    "                                                 mode='max',\n",
    "                                                 monitor='val_accuracy',\n",
    "                                            save_best_only=True)\n",
    "    \n",
    "    model.fit( x=[trainImagesX, trainAttrX], y=trainY, validation_data=([testImagesX, testAttrX], testY),\n",
    "        epochs=epoch_amt, batch_size=batch_amt, callbacks=[checkpoint])\n",
    "    \n",
    "    if save:\n",
    "        model.save(\"model\")\n",
    "\n",
    "    return model"
   ]
  },
  {
   "cell_type": "code",
   "execution_count": 6,
   "id": "5bcd6d2a",
   "metadata": {},
   "outputs": [],
   "source": [
    "def predict_file(file_name, model, label_encoder, latitude, longitude, date):\n",
    "    image = preprocess(file_name)\n",
    "\n",
    "    data = [[image, latitude, longitude, date]]\n",
    "    df = pd.DataFrame(data, columns=['image', 'latitude', 'longitude', 'date'])\n",
    "    continuous = [\"latitude\", \"longitude\"]\n",
    "    \n",
    "    cs = MinMaxScaler()\n",
    "    predictContinuous = cs.fit_transform(df[continuous])\n",
    "    \n",
    "    predicted_label = model.predict([image.numpy().reshape(1, 157, 64, 1), predictContinuous])\n",
    "    classes_x = np.argmax(predicted_label, axis=1)\n",
    "    prediction_class = label_encoder.inverse_transform(classes_x)\n",
    "    return prediction_class"
   ]
  },
  {
   "cell_type": "code",
   "execution_count": 7,
   "id": "8b9cdf5f",
   "metadata": {},
   "outputs": [],
   "source": [
    "# os.environ['CUDA_VISIBLE_DEVICES'] = '-1'"
   ]
  },
  {
   "cell_type": "code",
   "execution_count": 8,
   "id": "0c1f757b",
   "metadata": {},
   "outputs": [],
   "source": [
    "def process_images(df, inputPath):\n",
    "    images = []\n",
    "    for index_num, row in df.iterrows():\n",
    "        images.append(preprocess(inputPath + row[\"primary_label\"] + \"/\" + row[\"filename\"]))\n",
    "    return np.asarray(images).astype(np.float32)"
   ]
  },
  {
   "cell_type": "code",
   "execution_count": 9,
   "id": "fd7dcfe1",
   "metadata": {},
   "outputs": [],
   "source": [
    "def load_attributes(inputPath):\n",
    "    cols = [\"latitude\", \"longitude\", \"date\", \"time\", \"filename\", \"primary_label\"]\n",
    "    df = pd.read_csv(inputPath, skipinitialspace=True, usecols=cols)\n",
    "    # df = df.loc[df['primary_label'] <= \"amerob\"]\n",
    "    df = shuffle(df)\n",
    "    df.reset_index(inplace=True, drop=True)\n",
    "    return df"
   ]
  },
  {
   "cell_type": "code",
   "execution_count": 10,
   "id": "654b8c9e",
   "metadata": {},
   "outputs": [],
   "source": [
    "df = load_attributes(\"./Data/train_metadata.csv\")"
   ]
  },
  {
   "cell_type": "code",
   "execution_count": 11,
   "id": "28f4102b",
   "metadata": {},
   "outputs": [],
   "source": [
    "def process_attributes(inputPath, train, test):\n",
    "    continuous = [\"latitude\", \"longitude\"]\n",
    "    \n",
    "    cs = MinMaxScaler()\n",
    "    trainContinuous = cs.fit_transform(train[continuous])\n",
    "    testContinuous = cs.transform(test[continuous])\n",
    "    \n",
    "    \n",
    "    dateBinarizer = LabelBinarizer().fit(df[\"date\"])\n",
    "    trainCategorical = dateBinarizer.transform(train[\"date\"])\n",
    "    testCategorical = dateBinarizer.transform(test[\"date\"])\n",
    "    \n",
    "    trainX = trainContinuous\n",
    "    testX = testContinuous\n",
    "    \n",
    "    return (trainX, testX)"
   ]
  },
  {
   "cell_type": "code",
   "execution_count": 12,
   "id": "f0538228",
   "metadata": {},
   "outputs": [],
   "source": [
    "df = load_attributes(\"./Data/train_metadata.csv\")"
   ]
  },
  {
   "cell_type": "code",
   "execution_count": null,
   "id": "8bf26120",
   "metadata": {},
   "outputs": [],
   "source": [
    "images = process_images(df, \"./Data/Audio/\")"
   ]
  },
  {
   "cell_type": "code",
   "execution_count": null,
   "id": "a3832e68",
   "metadata": {},
   "outputs": [],
   "source": [
    "split = train_test_split(df, images, test_size=0.25, random_state=0)\n",
    "(trainAttrX, testAttrX, trainImagesX, testImagesX) = split\n",
    "label_encoder = LabelEncoder()\n",
    "trainY = to_categorical(label_encoder.fit_transform(trainAttrX[\"primary_label\"]))\n",
    "testY = to_categorical(label_encoder.fit_transform(testAttrX[\"primary_label\"]))\n",
    "\n",
    "(trainAttrX, testAttrX) = process_attributes(df,\n",
    "    trainAttrX, testAttrX)\n"
   ]
  },
  {
   "cell_type": "code",
   "execution_count": null,
   "id": "c991be94",
   "metadata": {
    "scrolled": false
   },
   "outputs": [],
   "source": [
    "num_labels = trainY.shape[1]\n",
    "\n",
    "#model = keras.models.load_model(\"bestest_model\")\n",
    "\n",
    "train_model(None, trainAttrX, trainImagesX, trainY, testAttrX, testImagesX, testY, num_labels, 8, 1000, True)\n",
    "\n",
    "#preds = model.predict([testImagesX, testAttrX])\n"
   ]
  },
  {
   "cell_type": "code",
   "execution_count": null,
   "id": "5c5e90e1",
   "metadata": {},
   "outputs": [],
   "source": [
    "model = keras.models.load_model(\"best_model\")"
   ]
  },
  {
   "cell_type": "code",
   "execution_count": null,
   "id": "b71e80f8",
   "metadata": {},
   "outputs": [],
   "source": [
    "prediction = predict_file(\"./Data/Audio/ameavo/XC324488.ogg\", model, label_encoder,\n",
    "                             33.2016, -115.597, \"\")\n",
    "prediction"
   ]
  },
  {
   "cell_type": "code",
   "execution_count": null,
   "id": "9f8aef46",
   "metadata": {},
   "outputs": [],
   "source": []
  }
 ],
 "metadata": {
  "kernelspec": {
   "display_name": "Python 3 (ipykernel)",
   "language": "python",
   "name": "python3"
  },
  "language_info": {
   "codemirror_mode": {
    "name": "ipython",
    "version": 3
   },
   "file_extension": ".py",
   "mimetype": "text/x-python",
   "name": "python",
   "nbconvert_exporter": "python",
   "pygments_lexer": "ipython3",
   "version": "3.9.13"
  }
 },
 "nbformat": 4,
 "nbformat_minor": 5
}
