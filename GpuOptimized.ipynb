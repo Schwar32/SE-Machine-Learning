{
 "cells": [
  {
   "cell_type": "code",
   "execution_count": 1,
   "id": "13019d7e",
   "metadata": {},
   "outputs": [],
   "source": [
    "import os\n",
    "\n",
    "import pandas as pd\n",
    "import numpy as np\n",
    "import soundfile as sf\n",
    "from matplotlib import pyplot as plt\n",
    "\n",
    "import tensorflow as tf\n",
    "import tensorflow_io as tfio\n",
    "\n",
    "import keras.models\n",
    "from keras import regularizers\n",
    "from keras.models import Sequential\n",
    "from keras.layers import Conv2D, Dense, Flatten\n",
    "from keras.layers import Dropout\n",
    "from keras.utils import to_categorical\n",
    "from tensorflow.keras.models import Sequential\n",
    "from tensorflow.keras.layers import BatchNormalization\n",
    "from tensorflow.keras.layers import Conv2D\n",
    "from tensorflow.keras.layers import MaxPooling2D\n",
    "from tensorflow.keras.layers import Activation\n",
    "from tensorflow.keras.layers import Dropout\n",
    "from tensorflow.keras.layers import Dense\n",
    "from tensorflow.keras.layers import Flatten\n",
    "from tensorflow.keras.layers import Input\n",
    "from tensorflow.keras.models import Model\n",
    "from tensorflow.keras.layers import concatenate\n",
    "\n",
    "from sklearn.preprocessing import LabelEncoder\n",
    "from sklearn.model_selection import train_test_split\n",
    "from sklearn.utils import shuffle\n",
    "from sklearn.preprocessing import LabelBinarizer\n",
    "from sklearn.preprocessing import MinMaxScaler"
   ]
  },
  {
   "cell_type": "code",
   "execution_count": 2,
   "id": "ad489fe5",
   "metadata": {},
   "outputs": [],
   "source": [
    "def load_audio(file_name):\n",
    "    audio_data, sample_rate = sf.read(file_name)\n",
    "    return audio_data[::8]"
   ]
  },
  {
   "cell_type": "code",
   "execution_count": 3,
   "id": "7fda4cc7",
   "metadata": {},
   "outputs": [],
   "source": [
    "def preprocess(file_path):\n",
    "    wav = load_audio(file_path)\n",
    "    wav = wav[:80000]\n",
    "    zero_padding = tf.zeros([80000] - tf.shape(wav), dtype=tf.float32)\n",
    "    wav = tf.concat([zero_padding, wav], 0)\n",
    "\n",
    "    spectrogram = tfio.audio.spectrogram(\n",
    "        wav, nfft=512, window=512, stride=512)\n",
    "\n",
    "    mel_spectrogram = tfio.audio.melscale(\n",
    "        spectrogram, rate=8000, mels=64, fmin=0, fmax=4000)\n",
    "\n",
    "    dbscale_mel_spectrogram = tfio.audio.dbscale(\n",
    "        mel_spectrogram, top_db=80)\n",
    "\n",
    "    freq_mask = tfio.audio.freq_mask(dbscale_mel_spectrogram, param=2)\n",
    "\n",
    "    time_mask = tfio.audio.time_mask(freq_mask, param=2)\n",
    "    time_mask = tf.expand_dims(time_mask, axis=2)\n",
    "    return time_mask"
   ]
  },
  {
   "cell_type": "code",
   "execution_count": 4,
   "id": "f4a2ffa3",
   "metadata": {},
   "outputs": [],
   "source": [
    "def create_model(num_labels):\n",
    "    image_input = Input((157, 64, 1))\n",
    "    x = Conv2D(16, (3,3), activation='relu', kernel_regularizer=regularizers.l2(0.0001))(image_input)\n",
    "    x = Dropout(0.4)(x)\n",
    "    x = Conv2D(32, (3,3), activation='relu', kernel_regularizer=regularizers.l2(0.0001))(x)\n",
    "    x = Dropout(0.4)(x)\n",
    "    x = Conv2D(32, (3,3), activation='relu', kernel_regularizer=regularizers.l2(0.0001))(x)\n",
    "    x = Dropout(0.4)(x)\n",
    "    x = Conv2D(64, (3,3), activation='relu', kernel_regularizer=regularizers.l2(0.0001))(x)\n",
    "    x = Dropout(0.4)(x)\n",
    "    x = Conv2D(64, (3,3), activation='relu', kernel_regularizer=regularizers.l2(0.0001))(x)\n",
    "    x = Dropout(0.4)(x)\n",
    "    x = Conv2D(64, (3,3), activation='relu', kernel_regularizer=regularizers.l2(0.0001))(x)\n",
    "    x = Dropout(0.4)(x)\n",
    "    x = Conv2D(64, (3,3), activation='relu', kernel_regularizer=regularizers.l2(0.0001))(x)\n",
    "    x = Dropout(0.4)(x)\n",
    "    x = Flatten()(x)\n",
    "    x = Dropout(0.5)(x)\n",
    "    x = Dense(256, activation=\"relu\", kernel_regularizer=regularizers.l2(0.0001))(x)\n",
    "    x = Dropout(0.35)(x)\n",
    "    x = Dense(256, activation=\"relu\", kernel_regularizer=regularizers.l2(0.0001))(x)\n",
    "    x = Dropout(0.35)(x)\n",
    "    x = Dense(128, activation=\"relu\", kernel_regularizer=regularizers.l2(0.0001))(x)\n",
    "    x = Dropout(0.35)(x)\n",
    "    x = Dense(128, activation=\"relu\", kernel_regularizer=regularizers.l2(0.0001))(x)\n",
    "    x = Dropout(0.35)(x)\n",
    "    x = Dense(64, activation=\"relu\", kernel_regularizer=regularizers.l2(0.0001))(x)\n",
    "    x = Dense(64, activation=\"relu\", kernel_regularizer=regularizers.l2(0.0001))(x)\n",
    "    x = Dense(32, activation=\"relu\", kernel_regularizer=regularizers.l2(0.0001))(x)\n",
    "\n",
    "    info_input = Input((2,))\n",
    "    y = Dense(16, activation=\"relu\", kernel_regularizer=regularizers.l2(0.0001))(info_input)\n",
    "    y = Dropout(0.5)(y)\n",
    "    y = Dense(32, activation=\"relu\", kernel_regularizer=regularizers.l2(0.0001))(y)\n",
    "    y = Dropout(0.5)(y)\n",
    "    y = Dense(16, activation=\"relu\", kernel_regularizer=regularizers.l2(0.0001))(info_input)\n",
    "    y = Dropout(0.5)(y)\n",
    "    \n",
    "    z = concatenate([x, y])\n",
    "    z = Dense(128, activation=\"relu\", kernel_regularizer=regularizers.l2(0.0001))(z)\n",
    "    z = Dropout(0.5)(z)\n",
    "    z = Dense(64, activation=\"relu\", kernel_regularizer=regularizers.l2(0.0001))(z)\n",
    "    z = Dropout(0.5)(z)\n",
    "    z = Dense(32, activation=\"relu\", kernel_regularizer=regularizers.l2(0.0001))(z)\n",
    "    z = Dropout(0.5)(z)\n",
    "    z = Dense(num_labels, activation=\"softmax\")(z)\n",
    "\n",
    "    model = Model([image_input, info_input], [z])\n",
    "    model.summary()\n",
    "    optimizer = keras.optimizers.Adam(learning_rate=0.001)\n",
    "    model.compile(optimizer=optimizer, loss='categorical_crossentropy', metrics=[\"accuracy\"])\n",
    "    return model"
   ]
  },
  {
   "cell_type": "code",
   "execution_count": 5,
   "id": "e2bb68a7",
   "metadata": {},
   "outputs": [],
   "source": [
    "def train_model(model, trainAttrX, trainImagesX, trainY, testAttrX, testImagesX, testY, num_labels, batch_amt, epoch_amt, save):\n",
    "    if not model:\n",
    "        model = create_model(num_labels)\n",
    "\n",
    "    checkpoint = keras.callbacks.ModelCheckpoint(filepath=\"bestest_model\",\n",
    "                                                 mode='max',\n",
    "                                                 monitor='val_accuracy',\n",
    "                                            save_best_only=True)\n",
    "    \n",
    "    model.fit( x=[trainImagesX, trainAttrX], y=trainY, validation_data=([testImagesX, testAttrX], testY),\n",
    "        epochs=epoch_amt, batch_size=batch_amt, callbacks=[checkpoint])\n",
    "    \n",
    "    if save:\n",
    "        model.save(\"model\")\n",
    "\n",
    "    return model"
   ]
  },
  {
   "cell_type": "code",
   "execution_count": 6,
   "id": "5bcd6d2a",
   "metadata": {},
   "outputs": [],
   "source": [
    "def predict_file(file_name, model, label_encoder, latitude, longitude, date):\n",
    "    image = preprocess(file_name)\n",
    "\n",
    "    data = [[image, latitude, longitude, date]]\n",
    "    df = pd.DataFrame(data, columns=['image', 'latitude', 'longitude', 'date'])\n",
    "    continuous = [\"latitude\", \"longitude\"]\n",
    "    \n",
    "    cs = MinMaxScaler()\n",
    "    predictContinuous = cs.fit_transform(df[continuous])\n",
    "    \n",
    "    predicted_label = model.predict([image.numpy().reshape(1, 157, 64, 1), predictContinuous])\n",
    "    classes_x = np.argmax(predicted_label, axis=1)\n",
    "    prediction_class = label_encoder.inverse_transform(classes_x)\n",
    "    return prediction_class"
   ]
  },
  {
   "cell_type": "code",
   "execution_count": 7,
   "id": "8b9cdf5f",
   "metadata": {},
   "outputs": [],
   "source": [
    "# os.environ['CUDA_VISIBLE_DEVICES'] = '-1'"
   ]
  },
  {
   "cell_type": "code",
   "execution_count": 8,
   "id": "0c1f757b",
   "metadata": {},
   "outputs": [],
   "source": [
    "def process_images(df, inputPath):\n",
    "    images = []\n",
    "    for index_num, row in df.iterrows():\n",
    "        images.append(preprocess(inputPath + row[\"primary_label\"] + \"/\" + row[\"filename\"]))\n",
    "    return np.asarray(images).astype(np.float32)"
   ]
  },
  {
   "cell_type": "code",
   "execution_count": 9,
   "id": "fd7dcfe1",
   "metadata": {},
   "outputs": [],
   "source": [
    "def load_attributes(inputPath):\n",
    "    cols = [\"latitude\", \"longitude\", \"date\", \"time\", \"filename\", \"primary_label\"]\n",
    "    df = pd.read_csv(inputPath, skipinitialspace=True, usecols=cols)\n",
    "    df = df.loc[df['primary_label'] <= \"amecro\"]\n",
    "    df = shuffle(df)\n",
    "    df.reset_index(inplace=True, drop=True)\n",
    "    return df"
   ]
  },
  {
   "cell_type": "code",
   "execution_count": 10,
   "id": "654b8c9e",
   "metadata": {},
   "outputs": [],
   "source": [
    "df = load_attributes(\"./Data/train_metadata.csv\")"
   ]
  },
  {
   "cell_type": "code",
   "execution_count": 11,
   "id": "28f4102b",
   "metadata": {},
   "outputs": [],
   "source": [
    "def process_attributes(inputPath, train, test):\n",
    "    continuous = [\"latitude\", \"longitude\"]\n",
    "    \n",
    "    cs = MinMaxScaler()\n",
    "    trainContinuous = cs.fit_transform(train[continuous])\n",
    "    testContinuous = cs.transform(test[continuous])\n",
    "    \n",
    "    \n",
    "    dateBinarizer = LabelBinarizer().fit(df[\"date\"])\n",
    "    trainCategorical = dateBinarizer.transform(train[\"date\"])\n",
    "    testCategorical = dateBinarizer.transform(test[\"date\"])\n",
    "    \n",
    "    trainX = trainContinuous\n",
    "    testX = testContinuous\n",
    "    \n",
    "    return (trainX, testX)"
   ]
  },
  {
   "cell_type": "code",
   "execution_count": 12,
   "id": "f0538228",
   "metadata": {},
   "outputs": [],
   "source": [
    "df = load_attributes(\"./Data/train_metadata.csv\")"
   ]
  },
  {
   "cell_type": "code",
   "execution_count": 13,
   "id": "8bf26120",
   "metadata": {},
   "outputs": [],
   "source": [
    "images = process_images(df, \"./Data/Audio/\")"
   ]
  },
  {
   "cell_type": "code",
   "execution_count": 14,
   "id": "a3832e68",
   "metadata": {},
   "outputs": [],
   "source": [
    "split = train_test_split(df, images, test_size=0.25, random_state=0)\n",
    "(trainAttrX, testAttrX, trainImagesX, testImagesX) = split\n",
    "label_encoder = LabelEncoder()\n",
    "trainY = to_categorical(label_encoder.fit_transform(trainAttrX[\"primary_label\"]))\n",
    "testY = to_categorical(label_encoder.fit_transform(testAttrX[\"primary_label\"]))\n",
    "\n",
    "(trainAttrX, testAttrX) = process_attributes(df,\n",
    "    trainAttrX, testAttrX)\n"
   ]
  },
  {
   "cell_type": "code",
   "execution_count": null,
   "id": "c991be94",
   "metadata": {
    "scrolled": false
   },
   "outputs": [
    {
     "name": "stdout",
     "output_type": "stream",
     "text": [
      "Model: \"model\"\n",
      "__________________________________________________________________________________________________\n",
      " Layer (type)                   Output Shape         Param #     Connected to                     \n",
      "==================================================================================================\n",
      " input_1 (InputLayer)           [(None, 157, 64, 1)  0           []                               \n",
      "                                ]                                                                 \n",
      "                                                                                                  \n",
      " conv2d (Conv2D)                (None, 155, 62, 16)  160         ['input_1[0][0]']                \n",
      "                                                                                                  \n",
      " dropout (Dropout)              (None, 155, 62, 16)  0           ['conv2d[0][0]']                 \n",
      "                                                                                                  \n",
      " conv2d_1 (Conv2D)              (None, 153, 60, 32)  4640        ['dropout[0][0]']                \n",
      "                                                                                                  \n",
      " dropout_1 (Dropout)            (None, 153, 60, 32)  0           ['conv2d_1[0][0]']               \n",
      "                                                                                                  \n",
      " conv2d_2 (Conv2D)              (None, 151, 58, 32)  9248        ['dropout_1[0][0]']              \n",
      "                                                                                                  \n",
      " dropout_2 (Dropout)            (None, 151, 58, 32)  0           ['conv2d_2[0][0]']               \n",
      "                                                                                                  \n",
      " conv2d_3 (Conv2D)              (None, 149, 56, 64)  18496       ['dropout_2[0][0]']              \n",
      "                                                                                                  \n",
      " dropout_3 (Dropout)            (None, 149, 56, 64)  0           ['conv2d_3[0][0]']               \n",
      "                                                                                                  \n",
      " conv2d_4 (Conv2D)              (None, 147, 54, 64)  36928       ['dropout_3[0][0]']              \n",
      "                                                                                                  \n",
      " dropout_4 (Dropout)            (None, 147, 54, 64)  0           ['conv2d_4[0][0]']               \n",
      "                                                                                                  \n",
      " conv2d_5 (Conv2D)              (None, 145, 52, 64)  36928       ['dropout_4[0][0]']              \n",
      "                                                                                                  \n",
      " dropout_5 (Dropout)            (None, 145, 52, 64)  0           ['conv2d_5[0][0]']               \n",
      "                                                                                                  \n",
      " conv2d_6 (Conv2D)              (None, 143, 50, 64)  36928       ['dropout_5[0][0]']              \n",
      "                                                                                                  \n",
      " dropout_6 (Dropout)            (None, 143, 50, 64)  0           ['conv2d_6[0][0]']               \n",
      "                                                                                                  \n",
      " flatten (Flatten)              (None, 457600)       0           ['dropout_6[0][0]']              \n",
      "                                                                                                  \n",
      " dropout_7 (Dropout)            (None, 457600)       0           ['flatten[0][0]']                \n",
      "                                                                                                  \n",
      " dense (Dense)                  (None, 256)          117145856   ['dropout_7[0][0]']              \n",
      "                                                                                                  \n",
      " dropout_8 (Dropout)            (None, 256)          0           ['dense[0][0]']                  \n",
      "                                                                                                  \n",
      " dense_1 (Dense)                (None, 256)          65792       ['dropout_8[0][0]']              \n",
      "                                                                                                  \n",
      " dropout_9 (Dropout)            (None, 256)          0           ['dense_1[0][0]']                \n",
      "                                                                                                  \n",
      " dense_2 (Dense)                (None, 128)          32896       ['dropout_9[0][0]']              \n",
      "                                                                                                  \n",
      " dropout_10 (Dropout)           (None, 128)          0           ['dense_2[0][0]']                \n",
      "                                                                                                  \n",
      " dense_3 (Dense)                (None, 128)          16512       ['dropout_10[0][0]']             \n",
      "                                                                                                  \n",
      " dropout_11 (Dropout)           (None, 128)          0           ['dense_3[0][0]']                \n",
      "                                                                                                  \n",
      " dense_4 (Dense)                (None, 64)           8256        ['dropout_11[0][0]']             \n",
      "                                                                                                  \n",
      " input_2 (InputLayer)           [(None, 2)]          0           []                               \n",
      "                                                                                                  \n",
      " dense_5 (Dense)                (None, 64)           4160        ['dense_4[0][0]']                \n",
      "                                                                                                  \n",
      " dense_9 (Dense)                (None, 16)           48          ['input_2[0][0]']                \n",
      "                                                                                                  \n",
      " dense_6 (Dense)                (None, 32)           2080        ['dense_5[0][0]']                \n",
      "                                                                                                  \n",
      " dropout_14 (Dropout)           (None, 16)           0           ['dense_9[0][0]']                \n",
      "                                                                                                  \n",
      " concatenate (Concatenate)      (None, 48)           0           ['dense_6[0][0]',                \n",
      "                                                                  'dropout_14[0][0]']             \n",
      "                                                                                                  \n",
      " dense_10 (Dense)               (None, 128)          6272        ['concatenate[0][0]']            \n",
      "                                                                                                  \n",
      " dropout_15 (Dropout)           (None, 128)          0           ['dense_10[0][0]']               \n",
      "                                                                                                  \n",
      " dense_11 (Dense)               (None, 64)           8256        ['dropout_15[0][0]']             \n",
      "                                                                                                  \n",
      " dropout_16 (Dropout)           (None, 64)           0           ['dense_11[0][0]']               \n",
      "                                                                                                  \n",
      " dense_12 (Dense)               (None, 32)           2080        ['dropout_16[0][0]']             \n",
      "                                                                                                  \n",
      " dropout_17 (Dropout)           (None, 32)           0           ['dense_12[0][0]']               \n",
      "                                                                                                  \n",
      " dense_13 (Dense)               (None, 5)            165         ['dropout_17[0][0]']             \n",
      "                                                                                                  \n"
     ]
    },
    {
     "name": "stdout",
     "output_type": "stream",
     "text": [
      "==================================================================================================\n",
      "Total params: 117,435,701\n",
      "Trainable params: 117,435,701\n",
      "Non-trainable params: 0\n",
      "__________________________________________________________________________________________________\n",
      "Epoch 1/1000\n",
      "39/39 [==============================] - ETA: 0s - loss: 4.2452 - accuracy: 0.2305"
     ]
    },
    {
     "name": "stderr",
     "output_type": "stream",
     "text": [
      "WARNING:absl:Found untraced functions such as _jit_compiled_convolution_op, _jit_compiled_convolution_op, _jit_compiled_convolution_op, _jit_compiled_convolution_op, _jit_compiled_convolution_op while saving (showing 5 of 7). These functions will not be directly callable after loading.\n"
     ]
    },
    {
     "name": "stdout",
     "output_type": "stream",
     "text": [
      "INFO:tensorflow:Assets written to: bestest_model\\assets\n"
     ]
    },
    {
     "name": "stderr",
     "output_type": "stream",
     "text": [
      "INFO:tensorflow:Assets written to: bestest_model\\assets\n"
     ]
    },
    {
     "name": "stdout",
     "output_type": "stream",
     "text": [
      "39/39 [==============================] - 16s 320ms/step - loss: 4.2452 - accuracy: 0.2305 - val_loss: 2.0065 - val_accuracy: 0.2718\n",
      "Epoch 2/1000\n",
      "39/39 [==============================] - 3s 65ms/step - loss: 2.0037 - accuracy: 0.2354 - val_loss: 1.9833 - val_accuracy: 0.2718\n",
      "Epoch 3/1000\n",
      "39/39 [==============================] - 2s 64ms/step - loss: 1.9651 - accuracy: 0.2565 - val_loss: 1.9527 - val_accuracy: 0.2718\n",
      "Epoch 4/1000\n",
      "39/39 [==============================] - 3s 65ms/step - loss: 1.9398 - accuracy: 0.2646 - val_loss: 1.9265 - val_accuracy: 0.2621\n",
      "Epoch 5/1000\n",
      "39/39 [==============================] - 2s 64ms/step - loss: 1.9272 - accuracy: 0.2711 - val_loss: 1.9170 - val_accuracy: 0.2718\n",
      "Epoch 6/1000\n",
      "39/39 [==============================] - 2s 64ms/step - loss: 1.9000 - accuracy: 0.2597 - val_loss: 1.8957 - val_accuracy: 0.2718\n",
      "Epoch 7/1000\n",
      "39/39 [==============================] - 2s 64ms/step - loss: 1.8793 - accuracy: 0.2744 - val_loss: 1.8794 - val_accuracy: 0.2718\n",
      "Epoch 8/1000\n",
      "39/39 [==============================] - 2s 64ms/step - loss: 1.8819 - accuracy: 0.2695 - val_loss: 1.8732 - val_accuracy: 0.2621\n",
      "Epoch 9/1000\n",
      "38/39 [============================>.] - ETA: 0s - loss: 1.8699 - accuracy: 0.2911"
     ]
    },
    {
     "name": "stderr",
     "output_type": "stream",
     "text": [
      "WARNING:absl:Found untraced functions such as _jit_compiled_convolution_op, _jit_compiled_convolution_op, _jit_compiled_convolution_op, _jit_compiled_convolution_op, _jit_compiled_convolution_op while saving (showing 5 of 7). These functions will not be directly callable after loading.\n"
     ]
    },
    {
     "name": "stdout",
     "output_type": "stream",
     "text": [
      "INFO:tensorflow:Assets written to: bestest_model\\assets\n"
     ]
    },
    {
     "name": "stderr",
     "output_type": "stream",
     "text": [
      "INFO:tensorflow:Assets written to: bestest_model\\assets\n"
     ]
    },
    {
     "name": "stdout",
     "output_type": "stream",
     "text": [
      "39/39 [==============================] - 10s 266ms/step - loss: 1.8681 - accuracy: 0.2922 - val_loss: 1.8624 - val_accuracy: 0.2864\n",
      "Epoch 10/1000\n",
      "38/39 [============================>.] - ETA: 0s - loss: 1.8572 - accuracy: 0.2632"
     ]
    },
    {
     "name": "stderr",
     "output_type": "stream",
     "text": [
      "WARNING:absl:Found untraced functions such as _jit_compiled_convolution_op, _jit_compiled_convolution_op, _jit_compiled_convolution_op, _jit_compiled_convolution_op, _jit_compiled_convolution_op while saving (showing 5 of 7). These functions will not be directly callable after loading.\n"
     ]
    },
    {
     "name": "stdout",
     "output_type": "stream",
     "text": [
      "INFO:tensorflow:Assets written to: bestest_model\\assets\n"
     ]
    },
    {
     "name": "stderr",
     "output_type": "stream",
     "text": [
      "INFO:tensorflow:Assets written to: bestest_model\\assets\n"
     ]
    },
    {
     "name": "stdout",
     "output_type": "stream",
     "text": [
      "39/39 [==============================] - 10s 273ms/step - loss: 1.8558 - accuracy: 0.2646 - val_loss: 1.8397 - val_accuracy: 0.3301\n",
      "Epoch 11/1000\n",
      "39/39 [==============================] - 3s 64ms/step - loss: 1.8406 - accuracy: 0.2695 - val_loss: 1.8228 - val_accuracy: 0.3301\n",
      "Epoch 12/1000\n",
      "39/39 [==============================] - 2s 64ms/step - loss: 1.8297 - accuracy: 0.2662 - val_loss: 1.8090 - val_accuracy: 0.3301\n",
      "Epoch 13/1000\n",
      "38/39 [============================>.] - ETA: 0s - loss: 1.8158 - accuracy: 0.2993"
     ]
    },
    {
     "name": "stderr",
     "output_type": "stream",
     "text": [
      "WARNING:absl:Found untraced functions such as _jit_compiled_convolution_op, _jit_compiled_convolution_op, _jit_compiled_convolution_op, _jit_compiled_convolution_op, _jit_compiled_convolution_op while saving (showing 5 of 7). These functions will not be directly callable after loading.\n"
     ]
    },
    {
     "name": "stdout",
     "output_type": "stream",
     "text": [
      "INFO:tensorflow:Assets written to: bestest_model\\assets\n"
     ]
    },
    {
     "name": "stderr",
     "output_type": "stream",
     "text": [
      "INFO:tensorflow:Assets written to: bestest_model\\assets\n"
     ]
    },
    {
     "name": "stdout",
     "output_type": "stream",
     "text": [
      "39/39 [==============================] - 10s 274ms/step - loss: 1.8152 - accuracy: 0.2987 - val_loss: 1.8116 - val_accuracy: 0.3350\n",
      "Epoch 14/1000\n",
      "39/39 [==============================] - 3s 64ms/step - loss: 1.8070 - accuracy: 0.2776 - val_loss: 1.7869 - val_accuracy: 0.3252\n",
      "Epoch 15/1000\n",
      "39/39 [==============================] - 2s 64ms/step - loss: 1.7817 - accuracy: 0.3312 - val_loss: 1.7662 - val_accuracy: 0.3252\n",
      "Epoch 16/1000\n",
      "39/39 [==============================] - 2s 64ms/step - loss: 1.7704 - accuracy: 0.3101 - val_loss: 1.7587 - val_accuracy: 0.3301\n",
      "Epoch 17/1000\n",
      "39/39 [==============================] - 2s 64ms/step - loss: 1.7558 - accuracy: 0.2938 - val_loss: 1.7395 - val_accuracy: 0.3252\n",
      "Epoch 18/1000\n",
      "39/39 [==============================] - 2s 64ms/step - loss: 1.7573 - accuracy: 0.3279 - val_loss: 1.7298 - val_accuracy: 0.3252\n",
      "Epoch 19/1000\n",
      "39/39 [==============================] - 2s 64ms/step - loss: 1.7357 - accuracy: 0.3279 - val_loss: 1.7203 - val_accuracy: 0.3252\n",
      "Epoch 20/1000\n",
      "39/39 [==============================] - 2s 64ms/step - loss: 1.7244 - accuracy: 0.3377 - val_loss: 1.6993 - val_accuracy: 0.3252\n",
      "Epoch 21/1000\n",
      "38/39 [============================>.] - ETA: 0s - loss: 1.7299 - accuracy: 0.3059"
     ]
    },
    {
     "name": "stderr",
     "output_type": "stream",
     "text": [
      "WARNING:absl:Found untraced functions such as _jit_compiled_convolution_op, _jit_compiled_convolution_op, _jit_compiled_convolution_op, _jit_compiled_convolution_op, _jit_compiled_convolution_op while saving (showing 5 of 7). These functions will not be directly callable after loading.\n"
     ]
    },
    {
     "name": "stdout",
     "output_type": "stream",
     "text": [
      "INFO:tensorflow:Assets written to: bestest_model\\assets\n"
     ]
    },
    {
     "name": "stderr",
     "output_type": "stream",
     "text": [
      "INFO:tensorflow:Assets written to: bestest_model\\assets\n"
     ]
    },
    {
     "name": "stdout",
     "output_type": "stream",
     "text": [
      "39/39 [==============================] - 10s 255ms/step - loss: 1.7301 - accuracy: 0.3068 - val_loss: 1.6924 - val_accuracy: 0.3544\n",
      "Epoch 22/1000\n",
      "39/39 [==============================] - 3s 65ms/step - loss: 1.6929 - accuracy: 0.3344 - val_loss: 1.6727 - val_accuracy: 0.3447\n",
      "Epoch 23/1000\n",
      "38/39 [============================>.] - ETA: 0s - loss: 1.6840 - accuracy: 0.3684"
     ]
    },
    {
     "name": "stderr",
     "output_type": "stream",
     "text": [
      "WARNING:absl:Found untraced functions such as _jit_compiled_convolution_op, _jit_compiled_convolution_op, _jit_compiled_convolution_op, _jit_compiled_convolution_op, _jit_compiled_convolution_op while saving (showing 5 of 7). These functions will not be directly callable after loading.\n"
     ]
    },
    {
     "name": "stdout",
     "output_type": "stream",
     "text": [
      "INFO:tensorflow:Assets written to: bestest_model\\assets\n"
     ]
    },
    {
     "name": "stderr",
     "output_type": "stream",
     "text": [
      "INFO:tensorflow:Assets written to: bestest_model\\assets\n"
     ]
    },
    {
     "name": "stdout",
     "output_type": "stream",
     "text": [
      "39/39 [==============================] - 11s 296ms/step - loss: 1.6833 - accuracy: 0.3701 - val_loss: 1.6559 - val_accuracy: 0.3786\n",
      "Epoch 24/1000\n",
      "38/39 [============================>.] - ETA: 0s - loss: 1.6713 - accuracy: 0.3388"
     ]
    },
    {
     "name": "stderr",
     "output_type": "stream",
     "text": [
      "WARNING:absl:Found untraced functions such as _jit_compiled_convolution_op, _jit_compiled_convolution_op, _jit_compiled_convolution_op, _jit_compiled_convolution_op, _jit_compiled_convolution_op while saving (showing 5 of 7). These functions will not be directly callable after loading.\n"
     ]
    },
    {
     "name": "stdout",
     "output_type": "stream",
     "text": [
      "INFO:tensorflow:Assets written to: bestest_model\\assets\n"
     ]
    },
    {
     "name": "stderr",
     "output_type": "stream",
     "text": [
      "INFO:tensorflow:Assets written to: bestest_model\\assets\n"
     ]
    },
    {
     "name": "stdout",
     "output_type": "stream",
     "text": [
      "39/39 [==============================] - 11s 278ms/step - loss: 1.6736 - accuracy: 0.3393 - val_loss: 1.6436 - val_accuracy: 0.3883\n",
      "Epoch 25/1000\n",
      "38/39 [============================>.] - ETA: 0s - loss: 1.6690 - accuracy: 0.3487"
     ]
    },
    {
     "name": "stderr",
     "output_type": "stream",
     "text": [
      "WARNING:absl:Found untraced functions such as _jit_compiled_convolution_op, _jit_compiled_convolution_op, _jit_compiled_convolution_op, _jit_compiled_convolution_op, _jit_compiled_convolution_op while saving (showing 5 of 7). These functions will not be directly callable after loading.\n"
     ]
    },
    {
     "name": "stdout",
     "output_type": "stream",
     "text": [
      "INFO:tensorflow:Assets written to: bestest_model\\assets\n"
     ]
    },
    {
     "name": "stderr",
     "output_type": "stream",
     "text": [
      "INFO:tensorflow:Assets written to: bestest_model\\assets\n"
     ]
    },
    {
     "name": "stdout",
     "output_type": "stream",
     "text": [
      "39/39 [==============================] - 10s 271ms/step - loss: 1.6690 - accuracy: 0.3490 - val_loss: 1.6399 - val_accuracy: 0.4078\n",
      "Epoch 26/1000\n",
      "38/39 [============================>.] - ETA: 0s - loss: 1.6658 - accuracy: 0.3438"
     ]
    },
    {
     "name": "stderr",
     "output_type": "stream",
     "text": [
      "WARNING:absl:Found untraced functions such as _jit_compiled_convolution_op, _jit_compiled_convolution_op, _jit_compiled_convolution_op, _jit_compiled_convolution_op, _jit_compiled_convolution_op while saving (showing 5 of 7). These functions will not be directly callable after loading.\n"
     ]
    },
    {
     "name": "stdout",
     "output_type": "stream",
     "text": [
      "INFO:tensorflow:Assets written to: bestest_model\\assets\n"
     ]
    },
    {
     "name": "stderr",
     "output_type": "stream",
     "text": [
      "INFO:tensorflow:Assets written to: bestest_model\\assets\n"
     ]
    },
    {
     "name": "stdout",
     "output_type": "stream",
     "text": [
      "39/39 [==============================] - 10s 266ms/step - loss: 1.6634 - accuracy: 0.3458 - val_loss: 1.6332 - val_accuracy: 0.4320\n",
      "Epoch 27/1000\n",
      "39/39 [==============================] - 3s 65ms/step - loss: 1.6356 - accuracy: 0.4010 - val_loss: 1.6167 - val_accuracy: 0.3981\n",
      "Epoch 28/1000\n",
      "39/39 [==============================] - 3s 65ms/step - loss: 1.6498 - accuracy: 0.3864 - val_loss: 1.6191 - val_accuracy: 0.4175\n",
      "Epoch 29/1000\n",
      "39/39 [==============================] - 2s 64ms/step - loss: 1.6334 - accuracy: 0.3571 - val_loss: 1.6122 - val_accuracy: 0.4175\n",
      "Epoch 30/1000\n",
      "39/39 [==============================] - 2s 64ms/step - loss: 1.6246 - accuracy: 0.3750 - val_loss: 1.5890 - val_accuracy: 0.4223\n",
      "Epoch 31/1000\n",
      "39/39 [==============================] - 3s 67ms/step - loss: 1.5995 - accuracy: 0.3929 - val_loss: 1.5725 - val_accuracy: 0.4078\n",
      "Epoch 32/1000\n",
      "39/39 [==============================] - 3s 67ms/step - loss: 1.6075 - accuracy: 0.3734 - val_loss: 1.5746 - val_accuracy: 0.3981\n",
      "Epoch 33/1000\n",
      "38/39 [============================>.] - ETA: 0s - loss: 1.5877 - accuracy: 0.3882"
     ]
    },
    {
     "name": "stderr",
     "output_type": "stream",
     "text": [
      "WARNING:absl:Found untraced functions such as _jit_compiled_convolution_op, _jit_compiled_convolution_op, _jit_compiled_convolution_op, _jit_compiled_convolution_op, _jit_compiled_convolution_op while saving (showing 5 of 7). These functions will not be directly callable after loading.\n"
     ]
    },
    {
     "name": "stdout",
     "output_type": "stream",
     "text": [
      "INFO:tensorflow:Assets written to: bestest_model\\assets\n"
     ]
    },
    {
     "name": "stderr",
     "output_type": "stream",
     "text": [
      "INFO:tensorflow:Assets written to: bestest_model\\assets\n"
     ]
    },
    {
     "name": "stdout",
     "output_type": "stream",
     "text": [
      "39/39 [==============================] - 11s 277ms/step - loss: 1.5864 - accuracy: 0.3880 - val_loss: 1.5548 - val_accuracy: 0.4757\n",
      "Epoch 34/1000\n",
      "39/39 [==============================] - 3s 66ms/step - loss: 1.5880 - accuracy: 0.3961 - val_loss: 1.5453 - val_accuracy: 0.4320\n",
      "Epoch 35/1000\n",
      "39/39 [==============================] - 3s 66ms/step - loss: 1.5588 - accuracy: 0.4091 - val_loss: 1.5279 - val_accuracy: 0.4466\n",
      "Epoch 36/1000\n",
      "39/39 [==============================] - 2s 63ms/step - loss: 1.5501 - accuracy: 0.4237 - val_loss: 1.5183 - val_accuracy: 0.4126\n",
      "Epoch 37/1000\n",
      "39/39 [==============================] - 2s 64ms/step - loss: 1.5224 - accuracy: 0.4188 - val_loss: 1.5020 - val_accuracy: 0.4515\n",
      "Epoch 38/1000\n",
      "38/39 [============================>.] - ETA: 0s - loss: 1.5350 - accuracy: 0.4095"
     ]
    },
    {
     "name": "stderr",
     "output_type": "stream",
     "text": [
      "WARNING:absl:Found untraced functions such as _jit_compiled_convolution_op, _jit_compiled_convolution_op, _jit_compiled_convolution_op, _jit_compiled_convolution_op, _jit_compiled_convolution_op while saving (showing 5 of 7). These functions will not be directly callable after loading.\n"
     ]
    },
    {
     "name": "stdout",
     "output_type": "stream",
     "text": [
      "INFO:tensorflow:Assets written to: bestest_model\\assets\n"
     ]
    },
    {
     "name": "stderr",
     "output_type": "stream",
     "text": [
      "INFO:tensorflow:Assets written to: bestest_model\\assets\n"
     ]
    },
    {
     "name": "stdout",
     "output_type": "stream",
     "text": [
      "39/39 [==============================] - 10s 270ms/step - loss: 1.5345 - accuracy: 0.4107 - val_loss: 1.4697 - val_accuracy: 0.5146\n",
      "Epoch 39/1000\n",
      "39/39 [==============================] - 3s 64ms/step - loss: 1.5153 - accuracy: 0.4221 - val_loss: 1.4728 - val_accuracy: 0.4126\n",
      "Epoch 40/1000\n",
      "39/39 [==============================] - 2s 63ms/step - loss: 1.5241 - accuracy: 0.3977 - val_loss: 1.4590 - val_accuracy: 0.4126\n",
      "Epoch 41/1000\n",
      "39/39 [==============================] - 2s 63ms/step - loss: 1.5100 - accuracy: 0.4334 - val_loss: 1.4632 - val_accuracy: 0.4078\n",
      "Epoch 42/1000\n",
      "39/39 [==============================] - 2s 64ms/step - loss: 1.4852 - accuracy: 0.4464 - val_loss: 1.4471 - val_accuracy: 0.4078\n",
      "Epoch 43/1000\n",
      "39/39 [==============================] - 3s 64ms/step - loss: 1.4750 - accuracy: 0.4692 - val_loss: 1.4066 - val_accuracy: 0.4466\n",
      "Epoch 44/1000\n",
      "39/39 [==============================] - 2s 64ms/step - loss: 1.4508 - accuracy: 0.4432 - val_loss: 1.3907 - val_accuracy: 0.4466\n",
      "Epoch 45/1000\n",
      "39/39 [==============================] - 2s 64ms/step - loss: 1.4507 - accuracy: 0.4026 - val_loss: 1.3907 - val_accuracy: 0.4466\n",
      "Epoch 46/1000\n",
      "39/39 [==============================] - 2s 63ms/step - loss: 1.4406 - accuracy: 0.4529 - val_loss: 1.3724 - val_accuracy: 0.4417\n",
      "Epoch 47/1000\n",
      "39/39 [==============================] - 3s 64ms/step - loss: 1.4007 - accuracy: 0.4789 - val_loss: 1.3641 - val_accuracy: 0.4466\n",
      "Epoch 48/1000\n",
      "39/39 [==============================] - 2s 64ms/step - loss: 1.4116 - accuracy: 0.4286 - val_loss: 1.3626 - val_accuracy: 0.4126\n",
      "Epoch 49/1000\n",
      "39/39 [==============================] - 2s 64ms/step - loss: 1.4144 - accuracy: 0.4659 - val_loss: 1.3451 - val_accuracy: 0.4417\n",
      "Epoch 50/1000\n",
      "39/39 [==============================] - 2s 64ms/step - loss: 1.3937 - accuracy: 0.4562 - val_loss: 1.3352 - val_accuracy: 0.4417\n",
      "Epoch 51/1000\n",
      "39/39 [==============================] - 2s 63ms/step - loss: 1.3774 - accuracy: 0.4529 - val_loss: 1.3220 - val_accuracy: 0.4417\n",
      "Epoch 52/1000\n",
      "39/39 [==============================] - 2s 64ms/step - loss: 1.3977 - accuracy: 0.4643 - val_loss: 1.3245 - val_accuracy: 0.4466\n",
      "Epoch 53/1000\n",
      "39/39 [==============================] - 2s 64ms/step - loss: 1.4118 - accuracy: 0.4675 - val_loss: 1.3203 - val_accuracy: 0.4417\n",
      "Epoch 54/1000\n",
      "39/39 [==============================] - 2s 64ms/step - loss: 1.3823 - accuracy: 0.4740 - val_loss: 1.3117 - val_accuracy: 0.4369\n",
      "Epoch 55/1000\n",
      "39/39 [==============================] - 2s 64ms/step - loss: 1.3733 - accuracy: 0.4724 - val_loss: 1.3045 - val_accuracy: 0.4466\n",
      "Epoch 56/1000\n",
      "39/39 [==============================] - 2s 64ms/step - loss: 1.3613 - accuracy: 0.4756 - val_loss: 1.2882 - val_accuracy: 0.4369\n",
      "Epoch 57/1000\n",
      "39/39 [==============================] - 2s 64ms/step - loss: 1.3473 - accuracy: 0.4740 - val_loss: 1.2877 - val_accuracy: 0.4515\n",
      "Epoch 58/1000\n",
      "39/39 [==============================] - 2s 64ms/step - loss: 1.3160 - accuracy: 0.5179 - val_loss: 1.2738 - val_accuracy: 0.4417\n",
      "Epoch 59/1000\n",
      "39/39 [==============================] - 2s 64ms/step - loss: 1.3591 - accuracy: 0.4513 - val_loss: 1.2762 - val_accuracy: 0.4369\n",
      "Epoch 60/1000\n",
      "39/39 [==============================] - 2s 64ms/step - loss: 1.3604 - accuracy: 0.4627 - val_loss: 1.2737 - val_accuracy: 0.4515\n",
      "Epoch 61/1000\n",
      "39/39 [==============================] - 2s 64ms/step - loss: 1.3113 - accuracy: 0.4951 - val_loss: 1.2535 - val_accuracy: 0.4466\n",
      "Epoch 62/1000\n",
      "39/39 [==============================] - 2s 64ms/step - loss: 1.3227 - accuracy: 0.4919 - val_loss: 1.2593 - val_accuracy: 0.4466\n",
      "Epoch 63/1000\n",
      "39/39 [==============================] - 2s 64ms/step - loss: 1.3338 - accuracy: 0.4578 - val_loss: 1.2642 - val_accuracy: 0.4369\n",
      "Epoch 64/1000\n",
      "39/39 [==============================] - 2s 64ms/step - loss: 1.3051 - accuracy: 0.5032 - val_loss: 1.2497 - val_accuracy: 0.4369\n",
      "Epoch 65/1000\n",
      "39/39 [==============================] - 2s 64ms/step - loss: 1.2934 - accuracy: 0.4740 - val_loss: 1.2327 - val_accuracy: 0.4466\n",
      "Epoch 66/1000\n",
      "39/39 [==============================] - 2s 64ms/step - loss: 1.3171 - accuracy: 0.4886 - val_loss: 1.2494 - val_accuracy: 0.5049\n",
      "Epoch 67/1000\n",
      "39/39 [==============================] - 2s 64ms/step - loss: 1.3099 - accuracy: 0.5000 - val_loss: 1.2446 - val_accuracy: 0.4369\n",
      "Epoch 68/1000\n",
      "39/39 [==============================] - 2s 64ms/step - loss: 1.3226 - accuracy: 0.4756 - val_loss: 1.2360 - val_accuracy: 0.4369\n",
      "Epoch 69/1000\n",
      "39/39 [==============================] - 2s 64ms/step - loss: 1.3007 - accuracy: 0.4773 - val_loss: 1.2277 - val_accuracy: 0.5000\n",
      "Epoch 70/1000\n",
      "39/39 [==============================] - 2s 64ms/step - loss: 1.2896 - accuracy: 0.4854 - val_loss: 1.2231 - val_accuracy: 0.5097\n",
      "Epoch 71/1000\n",
      "39/39 [==============================] - 2s 64ms/step - loss: 1.2617 - accuracy: 0.4968 - val_loss: 1.2277 - val_accuracy: 0.5000\n",
      "Epoch 72/1000\n",
      "39/39 [==============================] - 2s 64ms/step - loss: 1.2945 - accuracy: 0.4968 - val_loss: 1.2278 - val_accuracy: 0.4417\n",
      "Epoch 73/1000\n",
      "39/39 [==============================] - 2s 64ms/step - loss: 1.2751 - accuracy: 0.5065 - val_loss: 1.2220 - val_accuracy: 0.4466\n",
      "Epoch 74/1000\n",
      "39/39 [==============================] - 2s 64ms/step - loss: 1.2729 - accuracy: 0.4968 - val_loss: 1.2109 - val_accuracy: 0.4515\n",
      "Epoch 75/1000\n",
      "39/39 [==============================] - 2s 64ms/step - loss: 1.2864 - accuracy: 0.5179 - val_loss: 1.2289 - val_accuracy: 0.4417\n",
      "Epoch 76/1000\n",
      "39/39 [==============================] - 2s 64ms/step - loss: 1.2790 - accuracy: 0.4821 - val_loss: 1.2073 - val_accuracy: 0.4466\n",
      "Epoch 77/1000\n",
      "39/39 [==============================] - 2s 64ms/step - loss: 1.2626 - accuracy: 0.5097 - val_loss: 1.2110 - val_accuracy: 0.4466\n",
      "Epoch 78/1000\n",
      "39/39 [==============================] - 2s 64ms/step - loss: 1.2396 - accuracy: 0.5162 - val_loss: 1.2090 - val_accuracy: 0.4417\n",
      "Epoch 79/1000\n",
      "39/39 [==============================] - 2s 64ms/step - loss: 1.2607 - accuracy: 0.5032 - val_loss: 1.2025 - val_accuracy: 0.4612\n",
      "Epoch 80/1000\n",
      "39/39 [==============================] - 2s 64ms/step - loss: 1.2443 - accuracy: 0.4951 - val_loss: 1.1967 - val_accuracy: 0.4563\n",
      "Epoch 81/1000\n",
      "39/39 [==============================] - 2s 64ms/step - loss: 1.2401 - accuracy: 0.5097 - val_loss: 1.1886 - val_accuracy: 0.5097\n",
      "Epoch 82/1000\n",
      "39/39 [==============================] - 2s 64ms/step - loss: 1.2563 - accuracy: 0.4886 - val_loss: 1.1990 - val_accuracy: 0.4369\n",
      "Epoch 83/1000\n",
      "39/39 [==============================] - 2s 64ms/step - loss: 1.2382 - accuracy: 0.4886 - val_loss: 1.1867 - val_accuracy: 0.4417\n",
      "Epoch 84/1000\n",
      "39/39 [==============================] - 2s 64ms/step - loss: 1.2548 - accuracy: 0.4886 - val_loss: 1.1813 - val_accuracy: 0.5146\n",
      "Epoch 85/1000\n",
      "39/39 [==============================] - 2s 63ms/step - loss: 1.2350 - accuracy: 0.5276 - val_loss: 1.1726 - val_accuracy: 0.5097\n",
      "Epoch 86/1000\n",
      "39/39 [==============================] - 3s 64ms/step - loss: 1.2364 - accuracy: 0.5162 - val_loss: 1.1718 - val_accuracy: 0.4515\n",
      "Epoch 87/1000\n",
      "39/39 [==============================] - 2s 64ms/step - loss: 1.2411 - accuracy: 0.5195 - val_loss: 1.1769 - val_accuracy: 0.4563\n",
      "Epoch 88/1000\n",
      "39/39 [==============================] - 2s 64ms/step - loss: 1.2420 - accuracy: 0.4968 - val_loss: 1.1726 - val_accuracy: 0.4612\n",
      "Epoch 89/1000\n",
      "39/39 [==============================] - 2s 64ms/step - loss: 1.2477 - accuracy: 0.5179 - val_loss: 1.1666 - val_accuracy: 0.4612\n",
      "Epoch 90/1000\n",
      "39/39 [==============================] - 2s 64ms/step - loss: 1.2238 - accuracy: 0.5130 - val_loss: 1.1701 - val_accuracy: 0.4369\n",
      "Epoch 91/1000\n",
      "33/39 [========================>.....] - ETA: 0s - loss: 1.2309 - accuracy: 0.5189"
     ]
    }
   ],
   "source": [
    "num_labels = trainY.shape[1]\n",
    "\n",
    "#model = keras.models.load_model(\"bestest_model\")\n",
    "\n",
    "train_model(None, trainAttrX, trainImagesX, trainY, testAttrX, testImagesX, testY, num_labels, 16, 1000, True)\n",
    "\n",
    "#preds = model.predict([testImagesX, testAttrX])\n"
   ]
  },
  {
   "cell_type": "code",
   "execution_count": null,
   "id": "5c5e90e1",
   "metadata": {},
   "outputs": [],
   "source": [
    "model = keras.models.load_model(\"best_model\")"
   ]
  },
  {
   "cell_type": "code",
   "execution_count": null,
   "id": "b71e80f8",
   "metadata": {},
   "outputs": [],
   "source": [
    "prediction = predict_file(\"./Data/Audio/ameavo/XC324488.ogg\", model, label_encoder,\n",
    "                             33.2016, -115.597, \"\")\n",
    "prediction"
   ]
  },
  {
   "cell_type": "code",
   "execution_count": null,
   "id": "77695570",
   "metadata": {},
   "outputs": [],
   "source": []
  }
 ],
 "metadata": {
  "kernelspec": {
   "display_name": "Python 3 (ipykernel)",
   "language": "python",
   "name": "python3"
  },
  "language_info": {
   "codemirror_mode": {
    "name": "ipython",
    "version": 3
   },
   "file_extension": ".py",
   "mimetype": "text/x-python",
   "name": "python",
   "nbconvert_exporter": "python",
   "pygments_lexer": "ipython3",
   "version": "3.9.13"
  }
 },
 "nbformat": 4,
 "nbformat_minor": 5
}
